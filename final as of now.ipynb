{
 "cells": [
  {
   "cell_type": "code",
   "execution_count": null,
   "id": "norman-adjustment",
   "metadata": {},
   "outputs": [],
   "source": [
    "!pip install opencv-python\n",
    "!pip install pyttsx3\n",
    "!pip install ImageHash\n",
    "!pip install easyocr\n",
    "!pip install Pillow"
   ]
  },
  {
   "cell_type": "code",
   "execution_count": null,
   "id": "institutional-bacon",
   "metadata": {},
   "outputs": [],
   "source": [
    "import cv2\n",
    "import easyocr\n",
    "import pyttsx3\n",
    "from PIL import Image\n",
    "import imagehash"
   ]
  },
  {
   "cell_type": "code",
   "execution_count": null,
   "id": "banner-waste",
   "metadata": {},
   "outputs": [],
   "source": [
    "# select the language\n",
    "reader = easyocr.Reader(['en'])"
   ]
  },
  {
   "cell_type": "code",
   "execution_count": null,
   "id": "frequent-healing",
   "metadata": {},
   "outputs": [],
   "source": [
    "# for video capture\n",
    "cap = cv2.VideoCapture(\"try-1.mp4\")\n",
    "\n",
    "# for camera capture\n",
    "# cap = cv2.VideoCapture(0)\n",
    "\n",
    "# open the file\n",
    "f = open(\"demofile1.txt\", \"a\")\n",
    "\n",
    "ret,frame1 = cap.read()\n",
    "\n",
    "while True:\n",
    "    ret,frame = cap.read()\n",
    "    if ret:\n",
    "        cv2.imwrite(\"frame.jpg\", frame)\n",
    "    hash = imagehash.average_hash(Image.open('frame.jpg'))\n",
    "    otherhash = imagehash.average_hash(Image.open('frame1.jpg'))\n",
    "    if ret:\n",
    "        if not(hash == otherhash):\n",
    "                output = reader.readtext(frame)\n",
    "                for i in output:\n",
    "                    print(i[1])\n",
    "                    f.write(i[1])\n",
    "\n",
    "                print('\\n\\n\\n\\n\\n')\n",
    "                f.write('\\n\\n\\n\\n\\n')\n",
    "\n",
    "    else:\n",
    "            f.close()\n",
    "            break\n",
    "    frame1 = frame\n",
    "    if ret:\n",
    "        cv2.imwrite(\"frame1.jpg\", frame1)\n"
   ]
  },
  {
   "cell_type": "code",
   "execution_count": null,
   "id": "modern-behavior",
   "metadata": {},
   "outputs": [],
   "source": [
    "cap = cv2.VideoCapture(\"try-1.mp4\")\n",
    "# cap = cv2.VideoCapture(0)\n",
    "\n",
    "\n",
    "ret,frame1 = cap.read()\n",
    "while True:\n",
    "    ret,frame = cap.read()\n",
    "    if ret:\n",
    "        cv2.imwrite(\"frame.jpg\", frame)\n",
    "    hash = imagehash.average_hash(Image.open('frame.jpg'))\n",
    "    otherhash = imagehash.average_hash(Image.open('frame1.jpg'))\n",
    "    if ret:\n",
    "        if not(hash == otherhash):\n",
    "                output = reader.readtext(frame)\n",
    "                for i in output:\n",
    "                    print(i[1])\n",
    "                    speaker=pyttsx3.init()\n",
    "                    speaker.say(i[1])\n",
    "                    speaker.runAndWait()\n",
    "                    del speaker\n",
    "                print('\\n\\n\\n\\n\\n')\n",
    "\n",
    "    else:\n",
    "            break\n",
    "    frame1 = frame\n",
    "    if ret:\n",
    "        cv2.imwrite(\"frame1.jpg\", frame1)\n"
   ]
  },
  {
   "cell_type": "code",
   "execution_count": null,
   "id": "transparent-tongue",
   "metadata": {},
   "outputs": [],
   "source": [
    "cap.release()\n",
    "f.close()"
   ]
  },
  {
   "cell_type": "code",
   "execution_count": null,
   "id": "alpine-female",
   "metadata": {},
   "outputs": [],
   "source": []
  },
  {
   "cell_type": "code",
   "execution_count": null,
   "id": "sonic-checklist",
   "metadata": {},
   "outputs": [],
   "source": []
  },
  {
   "cell_type": "code",
   "execution_count": null,
   "id": "exposed-township",
   "metadata": {},
   "outputs": [],
   "source": []
  }
 ],
 "metadata": {
  "kernelspec": {
   "display_name": "Python 3",
   "language": "python",
   "name": "python3"
  },
  "language_info": {
   "codemirror_mode": {
    "name": "ipython",
    "version": 3
   },
   "file_extension": ".py",
   "mimetype": "text/x-python",
   "name": "python",
   "nbconvert_exporter": "python",
   "pygments_lexer": "ipython3",
   "version": "3.6.8"
  }
 },
 "nbformat": 4,
 "nbformat_minor": 5
}
